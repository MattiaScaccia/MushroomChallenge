{
 "cells": [
  {
   "cell_type": "markdown",
   "metadata": {},
   "source": [
    "# Classification on mushroom dataset\n",
    "\n",
    "### Step 0.1: Import dependecies"
   ]
  },
  {
   "cell_type": "code",
   "execution_count": 1,
   "metadata": {},
   "outputs": [],
   "source": [
    "import pandas as pd\n",
    "from sklearn.ensemble import RandomForestClassifier\n",
    "from sklearn.tree import DecisionTreeClassifier\n",
    "import sklearn.metrics as metrics\n",
    "from sklearn.model_selection import train_test_split\n",
    "from sklearn.pipeline import Pipeline\n",
    "from sklearn.preprocessing import LabelEncoder\n",
    "from sklearn.preprocessing import OneHotEncoder\n",
    "import matplotlib.pyplot as plt\n",
    "import seaborn as sns"
   ]
  },
  {
   "cell_type": "markdown",
   "metadata": {},
   "source": [
    "### Step 0.2: Reading Dataset and dropping target column and unuseful columns"
   ]
  },
  {
   "cell_type": "code",
   "execution_count": 3,
   "metadata": {},
   "outputs": [],
   "source": [
    "data = pd.read_csv('./Data/mushroom_data_all.csv')\n",
    "\n",
    "data_copy = data.copy()\n",
    "#Target column\n",
    "y = data_copy.class_edible\n",
    "X = data_copy.drop(['class_edible'], axis = 1, inplace = False)\n",
    "#Unuseful columns\n",
    "X.drop(['veil-type'], axis = 1, inplace = True)"
   ]
  },
  {
   "cell_type": "markdown",
   "metadata": {},
   "source": [
    "# Step 1: Splitting Dataset"
   ]
  },
  {
   "cell_type": "code",
   "execution_count": 4,
   "metadata": {},
   "outputs": [],
   "source": [
    "X_train, X_valid, y_train, y_valid = train_test_split(X, y,test_size = 0.3, random_state = 1)"
   ]
  },
  {
   "cell_type": "markdown",
   "metadata": {},
   "source": [
    "# Step 2: Preprocessing dataset"
   ]
  },
  {
   "cell_type": "markdown",
   "metadata": {},
   "source": [
    "### 2.1 Check on column that can be encoded"
   ]
  },
  {
   "cell_type": "code",
   "execution_count": 5,
   "metadata": {},
   "outputs": [
    {
     "name": "stdout",
     "output_type": "stream",
     "text": [
      "\n",
      "Categorical columns that will be dropped from the dataset: []\n"
     ]
    }
   ],
   "source": [
    "# All categorical columns\n",
    "object_cols = [col for col in X_train.columns if X_train[col].dtype == \"object\"]\n",
    "\n",
    "# Columns that can be safely encoded\n",
    "good_label_cols = [col for col in object_cols if set(X_train[col]) == set(X_valid[col])]\n",
    "\n",
    "bad_label_cols = list(set(X_valid.columns)-set(good_label_cols))\n",
    "\n",
    "print('\\nCategorical columns that will be dropped from the dataset:', bad_label_cols)\n",
    "\n"
   ]
  },
  {
   "cell_type": "markdown",
   "metadata": {},
   "source": [
    "### 2.2 Find which column to one_hot_encode and which to label_encode "
   ]
  },
  {
   "cell_type": "code",
   "execution_count": 6,
   "metadata": {},
   "outputs": [
    {
     "data": {
      "text/plain": [
       "[('bruises', 2),\n",
       " ('gill-attachment', 2),\n",
       " ('gill-spacing', 2),\n",
       " ('gill-size', 2),\n",
       " ('stalk-shape', 2),\n",
       " ('ring-number', 3),\n",
       " ('cap-surface', 4),\n",
       " ('stalk-surface-above-ring', 4),\n",
       " ('stalk-surface-below-ring', 4),\n",
       " ('veil-color', 4),\n",
       " ('stalk-root', 5),\n",
       " ('ring-type', 5),\n",
       " ('cap-shape', 6),\n",
       " ('population', 6),\n",
       " ('habitat', 7),\n",
       " ('odor', 9),\n",
       " ('stalk-color-above-ring', 9),\n",
       " ('stalk-color-below-ring', 9),\n",
       " ('spore-print-color', 9),\n",
       " ('cap-color', 10),\n",
       " ('gill-color', 12)]"
      ]
     },
     "execution_count": 6,
     "metadata": {},
     "output_type": "execute_result"
    }
   ],
   "source": [
    "object_nunique = list(map(lambda col: X_train[col].nunique(), object_cols))\n",
    "d = dict(zip(object_cols, object_nunique))\n",
    "\n",
    "# Print number of unique entries by column, in ascending order\n",
    "sorted(d.items(), key=lambda x: x[1])"
   ]
  },
  {
   "cell_type": "code",
   "execution_count": 7,
   "metadata": {},
   "outputs": [
    {
     "name": "stdout",
     "output_type": "stream",
     "text": [
      "Categorical columns that will be one-hot encoded: ['cap-shape', 'cap-surface', 'bruises', 'odor', 'gill-attachment', 'gill-spacing', 'gill-size', 'stalk-shape', 'stalk-root', 'stalk-surface-above-ring', 'stalk-surface-below-ring', 'stalk-color-above-ring', 'stalk-color-below-ring', 'veil-color', 'ring-number', 'ring-type', 'spore-print-color', 'population', 'habitat']\n",
      "\n",
      "Categorical columns that will be label encoded from the dataset: ['gill-color', 'cap-color']\n"
     ]
    }
   ],
   "source": [
    "# Columns that will be one-hot encoded\n",
    "low_cardinality_cols = [col for col in good_label_cols if X_train[col].nunique() < 10]\n",
    "\n",
    "# Columns that will be label encoded from the dataset\n",
    "high_cardinality_cols = list(set(good_label_cols)-set(low_cardinality_cols))\n",
    "\n",
    "print('Categorical columns that will be one-hot encoded:', low_cardinality_cols)\n",
    "print('\\nCategorical columns that will be label encoded from the dataset:', high_cardinality_cols)"
   ]
  },
  {
   "cell_type": "markdown",
   "metadata": {},
   "source": [
    "### 2.3 One hot encoding "
   ]
  },
  {
   "cell_type": "code",
   "execution_count": 8,
   "metadata": {},
   "outputs": [],
   "source": [
    "oh_encoder = OneHotEncoder(handle_unknown = 'ignore', sparse = False)\n",
    "\n",
    "OH_cols_train = pd.DataFrame(oh_encoder.fit_transform(X_train[low_cardinality_cols]))\n",
    "OH_cols_valid = pd.DataFrame(oh_encoder.transform(X_valid[low_cardinality_cols]))\n",
    "\n",
    "OH_cols_train.index = X_train.index\n",
    "OH_cols_valid.index = X_valid.index\n",
    "\n",
    "OH_X_train = pd.concat([X_train, OH_cols_train],axis=1)\n",
    "OH_X_valid = pd.concat([X_valid, OH_cols_valid],axis=1)\n",
    "\n",
    "OH_X_train = OH_X_train.drop(low_cardinality_cols, axis=1)\n",
    "OH_X_valid = OH_X_valid.drop(low_cardinality_cols, axis=1)\n",
    "\n"
   ]
  },
  {
   "cell_type": "markdown",
   "metadata": {},
   "source": [
    "### 2.4 Label encoding"
   ]
  },
  {
   "cell_type": "code",
   "execution_count": 9,
   "metadata": {},
   "outputs": [
    {
     "name": "stdout",
     "output_type": "stream",
     "text": [
      "Index([ 'cap-color', 'gill-color',            0,            1,            2,\n",
      "                  3,            4,            5,            6,            7,\n",
      "                  8,            9,           10,           11,           12,\n",
      "                 13,           14,           15,           16,           17,\n",
      "                 18,           19,           20,           21,           22,\n",
      "                 23,           24,           25,           26,           27,\n",
      "                 28,           29,           30,           31,           32,\n",
      "                 33,           34,           35,           36,           37,\n",
      "                 38,           39,           40,           41,           42,\n",
      "                 43,           44,           45,           46,           47,\n",
      "                 48,           49,           50,           51,           52,\n",
      "                 53,           54,           55,           56,           57,\n",
      "                 58,           59,           60,           61,           62,\n",
      "                 63,           64,           65,           66,           67,\n",
      "                 68,           69,           70,           71,           72,\n",
      "                 73,           74,           75,           76,           77,\n",
      "                 78,           79,           80,           81,           82,\n",
      "                 83,           84,           85,           86,           87,\n",
      "                 88,           89,           90,           91,           92,\n",
      "                 93],\n",
      "      dtype='object')\n"
     ]
    }
   ],
   "source": [
    "# Apply label encoder \n",
    "label_encoder = LabelEncoder()\n",
    "label_OH_X_train = OH_X_train\n",
    "label_OH_X_valid = OH_X_valid\n",
    "for col in set(high_cardinality_cols):\n",
    "    label_OH_X_train[col] = label_encoder.fit_transform(label_OH_X_train[col])\n",
    "    label_OH_X_valid[col] = label_encoder.transform(label_OH_X_valid[col])\n",
    "\n",
    "print(label_OH_X_train.columns)"
   ]
  },
  {
   "cell_type": "markdown",
   "metadata": {},
   "source": [
    "# Step 3: Training Model and predicting on validation set"
   ]
  },
  {
   "cell_type": "code",
   "execution_count": 10,
   "metadata": {},
   "outputs": [
    {
     "name": "stdout",
     "output_type": "stream",
     "text": [
      "['e' 'p' 'p' ... 'p' 'e' 'p']\n"
     ]
    }
   ],
   "source": [
    "model = RandomForestClassifier(random_state = 1)\n",
    "model.fit(label_OH_X_train, y_train)\n",
    "predictions = model.predict(label_OH_X_valid)\n",
    "print(predictions)"
   ]
  },
  {
   "cell_type": "markdown",
   "metadata": {},
   "source": [
    "# Step 4: Accuracy"
   ]
  },
  {
   "cell_type": "markdown",
   "metadata": {},
   "source": [
    "## 4.1 Confusion matrix"
   ]
  },
  {
   "cell_type": "code",
   "execution_count": 11,
   "metadata": {},
   "outputs": [
    {
     "name": "stdout",
     "output_type": "stream",
     "text": [
      "[[1236    0]\n",
      " [   0 1202]]\n"
     ]
    }
   ],
   "source": [
    "confusion_matrix= metrics.confusion_matrix(y_valid, predictions)\n",
    "print(confusion_matrix)"
   ]
  },
  {
   "cell_type": "code",
   "execution_count": 12,
   "metadata": {},
   "outputs": [
    {
     "data": {
      "image/png": "[encoded data removed]",
      "text/plain": [
       "<Figure size 576x360 with 1 Axes>"
      ]
     },
     "metadata": {
      "needs_background": "light"
     },
     "output_type": "display_data"
    }
   ],
   "source": [
    "plt.figure(figsize=(8,5))\n",
    "\n",
    "plt.suptitle(\"Confusion Matrix\",fontsize=20)\n",
    "\n",
    "plt.subplot(1,1,1)\n",
    "plt.title(\"Random Forest Confusion Matrix\")\n",
    "sns.heatmap(confusion_matrix, cbar=False,annot=True,cmap=\"Blues\",fmt=\"d\")\n",
    "\n",
    "plt.show()"
   ]
  },
  {
   "cell_type": "markdown",
   "metadata": {},
   "source": [
    "## 4.2 Printing accuracy"
   ]
  },
  {
   "cell_type": "code",
   "execution_count": 13,
   "metadata": {},
   "outputs": [
    {
     "name": "stdout",
     "output_type": "stream",
     "text": [
      "Training accuracy:  [1.0]\n",
      "Validation accuracy:  [1.0]\n"
     ]
    }
   ],
   "source": [
    "training_accuracy = []\n",
    "validation_accuracy = []\n",
    "\n",
    "training_accuracy.append(model.score(label_OH_X_train, y_train))    \n",
    "validation_accuracy.append(model.score(label_OH_X_valid, y_valid))\n",
    "\n",
    "print('Training accuracy: ', training_accuracy)\n",
    "print('Validation accuracy: ', validation_accuracy)"
   ]
  },
  {
   "cell_type": "code",
   "execution_count": null,
   "metadata": {},
   "outputs": [],
   "source": []
  }
 ],
 "metadata": {
  "kernelspec": {
   "display_name": "Python 3",
   "language": "python",
   "name": "python3"
  },
  "language_info": {
   "codemirror_mode": {
    "name": "ipython",
    "version": 3
   },
   "file_extension": ".py",
   "mimetype": "text/x-python",
   "name": "python",
   "nbconvert_exporter": "python",
   "pygments_lexer": "ipython3",
   "version": "3.7.6"
  }
 },
 "nbformat": 4,
 "nbformat_minor": 4
}
